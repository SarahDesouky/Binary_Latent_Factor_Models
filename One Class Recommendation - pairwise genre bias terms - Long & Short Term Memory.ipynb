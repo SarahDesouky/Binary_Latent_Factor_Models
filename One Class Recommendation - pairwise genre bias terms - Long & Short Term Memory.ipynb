{
 "cells": [
  {
   "cell_type": "code",
   "execution_count": 1,
   "metadata": {
    "collapsed": false
   },
   "outputs": [],
   "source": [
    "import numpy as np\n",
    "import scipy as sc\n",
    "import pylab as py\n",
    "import gzip\n",
    "import math\n",
    "from scipy.optimize import fmin_bfgs, fmin_l_bfgs_b, fmin_cg\n",
    "from collections import defaultdict\n",
    "import heapq\n",
    "import copy\n",
    "import bigfloat\n",
    "from sklearn.metrics import roc_curve, auc\n",
    "import matplotlib.pyplot as plt\n",
    "import operator\n",
    "import csv\n",
    "import hashlib\n",
    "from math import exp\n",
    "from math import log\n",
    "import warnings\n",
    "warnings.filterwarnings(\"error\")\n",
    "from datetime import datetime\n",
    "from sklearn.metrics import roc_curve, auc\n",
    "import matplotlib.pyplot as plt"
   ]
  },
  {
   "cell_type": "code",
   "execution_count": 2,
   "metadata": {
    "collapsed": false
   },
   "outputs": [],
   "source": [
    "with open('categories.txt', 'rb') as content_file:\n",
    "    categories = content_file.read().split('\\n')\n",
    "#to make things faster i put the index where every category starts in a dictionary where the key are the product ids and \n",
    "#the values are the starting index of the category\n",
    "catindex = defaultdict(int)\n",
    "f = open('categories.txt','rb')\n",
    "for i,l in enumerate(f):\n",
    "    if len(l)-len(l.strip()) <=1:\n",
    "        catindex[l.strip()]=i"
   ]
  },
  {
   "cell_type": "code",
   "execution_count": 3,
   "metadata": {
    "collapsed": true
   },
   "outputs": [],
   "source": [
    "def getYear(unix):\n",
    "    time = datetime.utcfromtimestamp(float(unix))\n",
    "    return time.strftime(\"%Y\")"
   ]
  },
  {
   "cell_type": "code",
   "execution_count": 4,
   "metadata": {
    "collapsed": true
   },
   "outputs": [],
   "source": [
    "#takes product id and returns category\n",
    "def getCategory(pid, categories, catdict, depth):\n",
    "    index = catdict[pid]\n",
    "    value = set()\n",
    "    j = index + 1\n",
    "    while len(categories[j])-len(categories[j].strip())>1:\n",
    "                ws = (categories[j].strip()).split(',')\n",
    "                break\n",
    "    return str((ws[:depth])[-1].strip())"
   ]
  },
  {
   "cell_type": "code",
   "execution_count": 5,
   "metadata": {
    "collapsed": false
   },
   "outputs": [],
   "source": [
    "data = []\n",
    "with open('500 core subset filtered.csv', 'rb') as csvfile:\n",
    "    reader = csv.DictReader(csvfile)\n",
    "    for row in reader:\n",
    "        data.append((row['uid'], row['pid'], row['rating'], row['time']))"
   ]
  },
  {
   "cell_type": "code",
   "execution_count": 6,
   "metadata": {
    "collapsed": true
   },
   "outputs": [],
   "source": [
    "def gethexdig(txt):\n",
    "    c = hashlib.md5(txt.encode())\n",
    "    return c.hexdigest()"
   ]
  },
  {
   "cell_type": "code",
   "execution_count": 7,
   "metadata": {
    "collapsed": true
   },
   "outputs": [],
   "source": [
    "def get_top_genres(data):\n",
    "    gs= defaultdict(int)\n",
    "    for d in data:\n",
    "        cat = getCategory(d[1], categories, catindex, 3)\n",
    "        gs[cat]+=1\n",
    "    return set(sorted(gs.iteritems(), key= operator.itemgetter(1), reverse=True)[:50])"
   ]
  },
  {
   "cell_type": "code",
   "execution_count": 8,
   "metadata": {
    "collapsed": true
   },
   "outputs": [],
   "source": [
    "gtop = get_top_genres(data)"
   ]
  },
  {
   "cell_type": "code",
   "execution_count": 9,
   "metadata": {
    "collapsed": false
   },
   "outputs": [
    {
     "name": "stdout",
     "output_type": "stream",
     "text": [
      "50\n"
     ]
    }
   ],
   "source": [
    "print len(gtop)"
   ]
  },
  {
   "cell_type": "code",
   "execution_count": 10,
   "metadata": {
    "collapsed": true
   },
   "outputs": [],
   "source": [
    "def get_top_genres_hash_values(data):\n",
    "    gs = get_top_genres(data)\n",
    "#     print len(gs)\n",
    "    genres = set()\n",
    "    for g in gs:\n",
    "        genres.add(gethexdig(g[0])) \n",
    "    return genres"
   ]
  },
  {
   "cell_type": "code",
   "execution_count": 11,
   "metadata": {
    "collapsed": false
   },
   "outputs": [
    {
     "name": "stdout",
     "output_type": "stream",
     "text": [
      "50\n"
     ]
    }
   ],
   "source": [
    "ghashed = get_top_genres_hash_values(data)\n",
    "print len(ghashed)"
   ]
  },
  {
   "cell_type": "code",
   "execution_count": 12,
   "metadata": {
    "collapsed": false
   },
   "outputs": [],
   "source": [
    "itemsuserrated = defaultdict(lambda: list())\n",
    "useritems = defaultdict(lambda: list())\n",
    "for d in data:\n",
    "    itemsuserrated[d[0]].append((d[1], d[3]))\n",
    "\n",
    "for u in itemsuserrated:\n",
    "    items = itemsuserrated[u]\n",
    "    isorted = sorted(items, key = lambda tup: tup[1])\n",
    "    itemsuserrated[u] = isorted\n",
    "    useritems[u] = [i[0] for i in isorted]"
   ]
  },
  {
   "cell_type": "code",
   "execution_count": 13,
   "metadata": {
    "collapsed": false
   },
   "outputs": [
    {
     "name": "stdout",
     "output_type": "stream",
     "text": [
      "10\n",
      "('A13G1TKIKHGV3F', '0060518499', '4.0', '1237075200')\n"
     ]
    }
   ],
   "source": [
    "print len(useritems)\n",
    "print data[0]"
   ]
  },
  {
   "cell_type": "code",
   "execution_count": 14,
   "metadata": {
    "collapsed": false
   },
   "outputs": [],
   "source": [
    "# ps = set()\n",
    "# for d in data:\n",
    "#     ps.add(d[1])\n",
    "# with open('550 core subset - with items not rated.csv', 'wb') as f:\n",
    "#     writer = csv.DictWriter(f, fieldnames=['user','irated','inrated'])\n",
    "#     writer.writeheader()\n",
    "#     for user in useritems:\n",
    "#         itemsrated = useritems[user] \n",
    "#         for i in itemsrated:\n",
    "#             notrated = np.random.choice(list(ps.difference(useritems[user])),size =10)\n",
    "#             for n in notrated:\n",
    "#                 writer.writerow({'user': user, 'irated': i, 'inrated': n})"
   ]
  },
  {
   "cell_type": "code",
   "execution_count": 15,
   "metadata": {
    "collapsed": false
   },
   "outputs": [],
   "source": [
    "# print itemsuserrated['A2OJW07GQRNJUT']"
   ]
  },
  {
   "cell_type": "code",
   "execution_count": 16,
   "metadata": {
    "collapsed": false
   },
   "outputs": [],
   "source": [
    "data = []\n",
    "with open('500 core subset - with items not rated.csv', 'rb') as csvfile:\n",
    "    reader = csv.DictReader(csvfile)\n",
    "    for row in reader:\n",
    "        data.append((row['user'], row['irated'], row['inrated']))"
   ]
  },
  {
   "cell_type": "code",
   "execution_count": 17,
   "metadata": {
    "collapsed": false
   },
   "outputs": [],
   "source": [
    "def same_year(u1,u2):\n",
    "    d1= datetime.fromtimestamp(float(u1))\n",
    "    d2= datetime.fromtimestamp(float(u2))\n",
    "    delta = d1 - d2\n",
    "    return delta.days <=365 and delta.days >= 0\n",
    "\n",
    "def reviews_before_in_same_year(uid, pid):\n",
    "    pids = []\n",
    "    reviews = useritems[uid]\n",
    "    reviewswithtime = itemsuserrated[uid]\n",
    "    index = list(reviews).index(pid)\n",
    "    year = reviewswithtime[index][1]\n",
    "    for i in range(index -1):\n",
    "        if same_year(year, reviewswithtime[i][1]):\n",
    "            pids.append(reviewswithtime[i][0])\n",
    "    return pids,  reviews[index-1]"
   ]
  },
  {
   "cell_type": "code",
   "execution_count": null,
   "metadata": {
    "collapsed": false
   },
   "outputs": [],
   "source": []
  },
  {
   "cell_type": "code",
   "execution_count": 18,
   "metadata": {
    "collapsed": false
   },
   "outputs": [],
   "source": [
    "datag = []\n",
    "depth = 3\n",
    "dg = 'anything'\n",
    "for d in data:\n",
    "    cats = defaultdict(int)\n",
    "    index = list(useritems[d[0]]).index(d[1])\n",
    "    cgenre = getCategory(d[1],categories,catindex,depth)\n",
    "    if gethexdig(cgenre) not in ghashed:\n",
    "        cgenre = dg\n",
    "    ngenre = getCategory(d[2], categories,catindex, depth)\n",
    "    if gethexdig(ngenre) not in ghashed:\n",
    "        ngenre = dg\n",
    "    if not index==0:\n",
    "        pids, pid = reviews_before_in_same_year(d[0], d[1])\n",
    "        for p in pids:\n",
    "            cat = getCategory(p, categories, catindex, depth)\n",
    "            if gethexdig(cat) not in ghashed :\n",
    "                cat = dg\n",
    "            cats[cat]+=1    \n",
    "        pgenre = getCategory(pid, categories, catindex, depth)\n",
    "        if gethexdig(pgenre) not in ghashed:\n",
    "            pgenre = dg\n",
    "        tup = (d + (cgenre,ngenre, pgenre))\n",
    "    else:\n",
    "        tup = (d + (cgenre,ngenre))\n",
    "    for c in cats:\n",
    "        tup = tup + (c, cats[c])\n",
    "    datag.append(tup)\n",
    "    \n",
    "k = 0\n",
    "genres = {}\n",
    "for g in gtop:\n",
    "    genres[g[0]] = k\n",
    "    k+=1\n",
    "genres[dg] = k\n",
    "len(genres)\n",
    "gside = len(genres)"
   ]
  },
  {
   "cell_type": "code",
   "execution_count": 19,
   "metadata": {
    "collapsed": false
   },
   "outputs": [
    {
     "name": "stdout",
     "output_type": "stream",
     "text": [
      "('A2AYSFGUP5VTY3', '1856498050', '1401202209', 'anything', 'Graphic Novels', 'United States', 'Humor', 2, 'Politics & Government', 2, 'Used & Rental Textbooks', 6, 'Fitness & Dieting', 1, 'Literary', 5, 'Music', 2, 'Education & Reference', 5, 'Religion & Spirituality', 1, 'History & Criticism', 2, 'Graphic Novels', 1, 'Ethnic & National', 2, 'Thriller & Suspense', 21, 'Biographies & Memoirs', 4, 'Economics', 1, 'Hobbies & Home', 2, 'Americas', 5, 'United States', 2, 'Leaders & Notable People', 3, 'Historical', 2, 'Classics', 10, 'anything', 29, 'People', 2, 'Arts & Literature', 4, 'Contemporary', 14, 'Books', 51, 'Literature & Fiction', 10)\n"
     ]
    }
   ],
   "source": [
    "print datag[0]"
   ]
  },
  {
   "cell_type": "code",
   "execution_count": 20,
   "metadata": {
    "collapsed": false
   },
   "outputs": [
    {
     "name": "stdout",
     "output_type": "stream",
     "text": [
      "51 51\n",
      "8241 8241\n",
      "('A2AYSFGUP5VTY3', '1856498050', '1401202209', 'anything', 'Graphic Novels', 'United States', 'Humor', 2, 'Politics & Government', 2, 'Used & Rental Textbooks', 6, 'Fitness & Dieting', 1, 'Literary', 5, 'Music', 2, 'Education & Reference', 5, 'Religion & Spirituality', 1, 'History & Criticism', 2, 'Graphic Novels', 1, 'Ethnic & National', 2, 'Thriller & Suspense', 21, 'Biographies & Memoirs', 4, 'Economics', 1, 'Hobbies & Home', 2, 'Americas', 5, 'United States', 2, 'Leaders & Notable People', 3, 'Historical', 2, 'Classics', 10, 'anything', 29, 'People', 2, 'Arts & Literature', 4, 'Contemporary', 14, 'Books', 51, 'Literature & Fiction', 10)\n"
     ]
    }
   ],
   "source": [
    "print gside, len(genres)\n",
    "print len(datag), len(data)\n",
    "print datag[0]"
   ]
  },
  {
   "cell_type": "code",
   "execution_count": 70,
   "metadata": {
    "collapsed": false
   },
   "outputs": [],
   "source": [
    "ps = set()\n",
    "us = set()\n",
    "gss = set()\n",
    "gsl = set()\n",
    "for d in datag:\n",
    "    ps.add(d[1])\n",
    "    ps.add(d[2])\n",
    "    us.add(d[0])\n",
    "    for i in range(6,len(d),2):\n",
    "        gsl.add((d[i], d[3]))\n",
    "        gsl.add((d[i], d[4]))\n",
    "    for i in xrange(5, len(d)):\n",
    "        gss.add((d[i], d[3]))\n",
    "        gss.add((d[i], d[4]))\n",
    "        break"
   ]
  },
  {
   "cell_type": "code",
   "execution_count": 71,
   "metadata": {
    "collapsed": false
   },
   "outputs": [
    {
     "name": "stdout",
     "output_type": "stream",
     "text": [
      "10\n",
      "7976\n",
      "2601\n"
     ]
    }
   ],
   "source": [
    "print len(us)\n",
    "print len(ps)\n",
    "print len(gsl)"
   ]
  },
  {
   "cell_type": "code",
   "execution_count": null,
   "metadata": {
    "collapsed": false
   },
   "outputs": [],
   "source": []
  },
  {
   "cell_type": "code",
   "execution_count": 72,
   "metadata": {
    "collapsed": false
   },
   "outputs": [],
   "source": [
    "users = {}\n",
    "products = {}\n",
    "i =0\n",
    "j=0\n",
    "for i,u in enumerate(us):\n",
    "    users[u] = i\n",
    "for j,p in enumerate(ps):\n",
    "    products[p] = j"
   ]
  },
  {
   "cell_type": "code",
   "execution_count": 73,
   "metadata": {
    "collapsed": false
   },
   "outputs": [],
   "source": [
    "# # np.random.shuffle(datag)\n",
    "# dtest = set()\n",
    "# dvalid= set() #to choose best regualrization parameter and dimninsionality of factor vectors \n",
    "# dtestusers = defaultdict(int)\n",
    "# dvalidusers = defaultdict(int)\n",
    "# for r in datag:\n",
    "#     cr = len(itemsuserrated[r[0]])\n",
    "#     vc = int((cr * 30)/float(100))\n",
    "#     if dtestusers[r[0]]< vc:\n",
    "#         dtestusers[r[0]] +=1\n",
    "#         dtest.add(r)\n",
    "#     if r not in dtest and dvalidusers[r[0]]<vc:\n",
    "#         dvalidusers[r[0]]+=1\n",
    "#         dvalid.add(r)\n",
    "\n",
    "# dtrain = set()\n",
    "# for r in datag:\n",
    "#     if r not in dtest and r not in dvalid:\n",
    "#         dtrain.add(r)\n",
    "# dtrain = list(dtrain)\n",
    "# dtest = list(dtest)"
   ]
  },
  {
   "cell_type": "code",
   "execution_count": 74,
   "metadata": {
    "collapsed": false
   },
   "outputs": [
    {
     "name": "stdout",
     "output_type": "stream",
     "text": [
      "4944 1648 1649 8241\n",
      "True\n"
     ]
    }
   ],
   "source": [
    "x60 = int((len(datag) * 60) / float(100))\n",
    "x20 = int((len(datag) * 20) / float(100))\n",
    "dtrain = datag[:x60]\n",
    "dvalid = datag[x60: x60+ x20]\n",
    "end =  x60+ x20\n",
    "dtest = datag[end:]\n",
    "print len(dtrain), len(dvalid), len(dtest), len(datag)\n",
    "print len(dtrain) + len(dvalid) + len(dtest) == len(datag)"
   ]
  },
  {
   "cell_type": "code",
   "execution_count": 75,
   "metadata": {
    "collapsed": false
   },
   "outputs": [
    {
     "name": "stdout",
     "output_type": "stream",
     "text": [
      "('A2AYSFGUP5VTY3', '1856498050', '1401202209', 'anything', 'Graphic Novels', 'United States', 'Humor', 2, 'Politics & Government', 2, 'Used & Rental Textbooks', 6, 'Fitness & Dieting', 1, 'Literary', 5, 'Music', 2, 'Education & Reference', 5, 'Religion & Spirituality', 1, 'History & Criticism', 2, 'Graphic Novels', 1, 'Ethnic & National', 2, 'Thriller & Suspense', 21, 'Biographies & Memoirs', 4, 'Economics', 1, 'Hobbies & Home', 2, 'Americas', 5, 'United States', 2, 'Leaders & Notable People', 3, 'Historical', 2, 'Classics', 10, 'anything', 29, 'People', 2, 'Arts & Literature', 4, 'Contemporary', 14, 'Books', 51, 'Literature & Fiction', 10)\n"
     ]
    }
   ],
   "source": [
    "print dtrain[0]"
   ]
  },
  {
   "cell_type": "code",
   "execution_count": 76,
   "metadata": {
    "collapsed": true
   },
   "outputs": [],
   "source": [
    "#balanced error rate\n",
    "def BER(predictions, labels):\n",
    "    tp =0\n",
    "    fp=0\n",
    "    tn=0\n",
    "    fn=0\n",
    "    for i,l in enumerate(labels):\n",
    "        if l==1 and predictions[i]==l:\n",
    "            tp+=1\n",
    "        if l==0 and predictions[i]==l:\n",
    "            tn+=1\n",
    "        if l==1 and predictions[i]==0:\n",
    "            fn+=1\n",
    "        if l==0 and predictions[i]==1:\n",
    "            fp+=1\n",
    "    fpr = fp / float(fp+tn)\n",
    "    fnr = fn/ float(tp+fn)\n",
    "    return 0.5 * (fpr + fnr)"
   ]
  },
  {
   "cell_type": "code",
   "execution_count": 77,
   "metadata": {
    "collapsed": false
   },
   "outputs": [],
   "source": [
    "#function that takes a dataset and the optimized parameters and the diminsionality of the factors and returns the predictions for\n",
    "#this dataset using the parmaters\n",
    "def getPredictions_score(data, op,k):\n",
    "    predictions = []\n",
    "    betaio = op[:len(products)]\n",
    "    end = len(products)\n",
    "    bijs = np.array(op[end: end+(gside**2)])\n",
    "    betaijs = bijs.reshape(gside, gside)\n",
    "    end = end + (gside**2)\n",
    "    bijl = np.array(op[end: end+(gside**2)])\n",
    "    betaijl = bijl.reshape(gside, gside)\n",
    "    end = end + (gside**2)\n",
    "    gs = np.array(op[end:])\n",
    "    opp = gs.reshape(len(users)+len(products),k)\n",
    "    gammus = opp[:len(users),:]\n",
    "    gammis= opp[len(users):,:]\n",
    "    for d in data:\n",
    "        p1 = betaio[products[d[1]]] + gammus[users[d[0]]].dot(gammis[products[d[1]]])\n",
    "        p2 = betaio[products[d[2]]] + gammus[users[d[0]]].dot(gammis[products[d[2]]])\n",
    "        for i in range(6,len(d),2):\n",
    "            p1 += betaijl[genres[d[i]]][genres[d[3]]] * np.log10(d[i+1])\n",
    "            p2 += betaijl[genres[d[i]]][genres[d[4]]] * np.log10(d[i+1])\n",
    "        for i in range(5, len(d)):\n",
    "            p1 += betaijs[genres[d[i]]][genres[d[3]]]\n",
    "            p2 += betaijs[genres[d[i]]][genres[d[4]]]\n",
    "            break\n",
    "        predictions.append(sigmoid(p1))\n",
    "        predictions.append(sigmoid(p2))\n",
    "    return np.array(predictions)\n",
    "    "
   ]
  },
  {
   "cell_type": "code",
   "execution_count": 78,
   "metadata": {
    "collapsed": false
   },
   "outputs": [],
   "source": [
    "def AUC(data, op, k):\n",
    "    count = 0\n",
    "    predictions = getPredictions_score(data, op,k)\n",
    "    for i in range(0, len(predictions), 2):\n",
    "        if predictions[i] > predictions[i+1]:\n",
    "            count +=1\n",
    "#     print count, len(data)\n",
    "    return count / float(len(data))     "
   ]
  },
  {
   "cell_type": "code",
   "execution_count": 79,
   "metadata": {
    "collapsed": false
   },
   "outputs": [],
   "source": [
    "#takes the data and returns the true labels for this dataset\n",
    "def getLabels(data):\n",
    "    labels = []\n",
    "    for d in data:\n",
    "        labels.append(1)\n",
    "        labels.append(0)\n",
    "    return labels"
   ]
  },
  {
   "cell_type": "code",
   "execution_count": 80,
   "metadata": {
    "collapsed": false
   },
   "outputs": [],
   "source": [
    "def sigmoid(z):\n",
    "    try:\n",
    "        f = sc.special.expit(z)\n",
    "    except RuntimeWarning:\n",
    "        f = 1/float(1 + bigfloat.exp(-z, bigfloat.precision(100)))\n",
    "    return f"
   ]
  },
  {
   "cell_type": "code",
   "execution_count": 81,
   "metadata": {
    "collapsed": false
   },
   "outputs": [],
   "source": [
    "uintrain = set()\n",
    "pintrain = set()\n",
    "gsintrain = set()\n",
    "glintrain = set()\n",
    "for d in dtrain:\n",
    "    pintrain.add(d[1])\n",
    "    pintrain.add(d[2])\n",
    "    uintrain.add(d[0])\n",
    "    for i in xrange(6,len(d),2):\n",
    "        glintrain.add((d[i], d[3]))\n",
    "        glintrain.add((d[i], d[4]))\n",
    "    for i in range(5, len(d)):\n",
    "        gsintrain.add((d[i], d[3]))\n",
    "        gsintrain.add((d[i], d[4]))\n",
    "        break"
   ]
  },
  {
   "cell_type": "code",
   "execution_count": 82,
   "metadata": {
    "collapsed": false
   },
   "outputs": [],
   "source": [
    "def compute_cost(initial,lam1,lam2, lam3, k, dataset):\n",
    "    betai = np.array(initial[:len(products)])\n",
    "    end = len(products)\n",
    "    bijs = np.array(initial[end: end+(gside**2)])\n",
    "    betaijs = bijs.reshape(gside, gside)\n",
    "    end = end + (gside**2)\n",
    "    bijl = np.array(initial[end: end+(gside**2)])\n",
    "    betaijl = bijl.reshape(gside, gside)\n",
    "    end = end + (gside**2)\n",
    "    gammas = np.array(initial[end:])\n",
    "    gsy = gammas.reshape(len(users)+len(products), k)\n",
    "    gammau = gsy[:len(users),:]\n",
    "    gammai = gsy[len(users):, :]\n",
    "    J = 0\n",
    "    for d in dataset: \n",
    "        term = (betai[products[d[1]]] + gammau[users[d[0]]].dot(gammai[products[d[1]]])) - (betai[products[d[2]]] + gammau[users[d[0]]].dot(gammai[products[d[2]]]))\n",
    "        for i in range(6,len(d), 2):\n",
    "            term += (betaijl[genres[d[i]]][genres[d[3]]] - betaijl[genres[d[i]]][genres[d[4]]])  * np.log10(d[i+1])\n",
    "        for i in xrange(5, len(d)):\n",
    "            term +=  betaijs[genres[d[i]]][genres[d[3]]] - betaijs[genres[d[i]]][genres[d[4]]]\n",
    "            break\n",
    "        J+= np.logaddexp(0, -term)\n",
    "    for u in us:\n",
    "        J += lam1 * np.sum(np.square(gammau[users[u]]))\n",
    "    for p in ps:\n",
    "        J+= lam1 * ( np.square(betai[products[p]]) + np.sum(np.square(gammai[products[p]])))\n",
    "    for g in gss:\n",
    "        J+= lam2 * np.square(betaijs[genres[g[0]]][genres[g[1]]])\n",
    "    for g in gsl:\n",
    "        J+= lam3 * np.square(betaijl[genres[g[0]]][genres[g[1]]])\n",
    "\n",
    "    g = gradient(betai, betaijs,betaijl, gammau,gammai,lam1,lam2, lam3, k, dataset)\n",
    "#     print J\n",
    "    return J,g"
   ]
  },
  {
   "cell_type": "code",
   "execution_count": 83,
   "metadata": {
    "collapsed": false
   },
   "outputs": [],
   "source": [
    "def gradient(betai,betaijs, betaijl, gammau,gammai, lam1,lam2, lam3, k, dataset):\n",
    "    gbi = np.zeros(len(products))\n",
    "    ggu = np.zeros((len(users),k))\n",
    "    ggi = np.zeros((len(products),k))\n",
    "    ggijs = np.zeros((gside,gside))\n",
    "    ggijl = np.zeros((gside,gside))\n",
    "    \n",
    "    for d in dataset:\n",
    "        term = (betai[products[d[1]]] + gammau[users[d[0]]].dot(gammai[products[d[1]]])) - (betai[products[d[2]]] + gammau[users[d[0]]].dot(gammai[products[d[2]]]))\n",
    "        for i in range(6,len(d), 2):\n",
    "            term += (betaijl[genres[d[i]]][genres[d[3]]] - betaijl[genres[d[i]]][genres[d[4]]])  * np.log10(d[i+1])\n",
    "        for i in xrange(5, len(d)):\n",
    "            term +=  betaijs[genres[d[i]]][genres[d[3]]] - betaijs[genres[d[i]]][genres[d[4]]]\n",
    "            break\n",
    "        try:\n",
    "            f = np.exp(-term) * sigmoid(term)\n",
    "        except RuntimeWarning:\n",
    "            f = float((bigfloat.exp(-term, bigfloat.precision(100))) * (sigmoid(term)))\n",
    "        ggu[users[d[0]]] += (gammai[products[d[2]]] - gammai[products[d[1]]]) * f\n",
    "        ggi[products[d[1]]]  += (-gammau[users[d[0]]]) * f\n",
    "        ggi[products[d[2]]] += gammau[users[d[0]]] * f\n",
    "        gbi[products[d[1]]] += (-1) *f\n",
    "        gbi[products[d[2]]] += f\n",
    "        for i in xrange(6, len(d), 2):\n",
    "            ggijl[genres[d[i]]][genres[d[3]]] += (-1) * f * np.log10(d[i+1])\n",
    "            ggijl[genres[d[i]]][genres[d[4]]] += f * np.log10(d[i+1])\n",
    "        for i in xrange(5, len(d)):\n",
    "            ggijs[genres[d[i]]][genres[d[3]]] += (-1) * f\n",
    "            ggijs[genres[d[i]]][genres[d[4]]] += f\n",
    "            break\n",
    "\n",
    "    for u in us:\n",
    "        ggu[users[u]] += 2 * lam1 * gammau[users[u]]\n",
    "    for p in ps:\n",
    "        gbi[products[p]] += 2 * lam1 * betai[products[p]]\n",
    "        ggi[products[p]] += 2 * lam1 * gammai[products[p]]\n",
    "    for g in gss:\n",
    "        ggijs[genres[g[0]]][genres[g[1]]] += 2 * lam2 * betaijs[genres[g[0]]][genres[g[1]]]\n",
    "    for g in gsl:\n",
    "        ggijl[genres[g[0]]][genres[g[1]]] += 2 * lam3 * betaijl[genres[g[0]]][genres[g[1]]]\n",
    "    \n",
    "    l = list(gbi) + list(ggijs.flatten()) + list(ggijl.flatten()) + list(ggu.flatten()) + list(ggi.flatten())\n",
    "\n",
    "    return np.array(l)    "
   ]
  },
  {
   "cell_type": "code",
   "execution_count": 84,
   "metadata": {
    "collapsed": true
   },
   "outputs": [],
   "source": [
    "def cost(initial,k, dataset):\n",
    "    betai = np.array(initial[:len(products)])\n",
    "    end = len(products)\n",
    "    bijs = np.array(initial[end: end+(gside**2)])\n",
    "    betaijs = bijs.reshape(gside, gside)\n",
    "    end = end + (gside**2)\n",
    "    bijl = np.array(initial[end: end+(gside**2)])\n",
    "    betaijl = bijl.reshape(gside, gside)\n",
    "    end = end + (gside**2)\n",
    "    gammas = np.array(initial[end:])\n",
    "    gsy = gammas.reshape(len(users)+len(products), k)\n",
    "    gammau = gsy[:len(users),:]\n",
    "    gammai = gsy[len(users):, :]\n",
    "    J = 0\n",
    "    for d in dataset: \n",
    "        term = (betai[products[d[1]]] + gammau[users[d[0]]].dot(gammai[products[d[1]]])) - (betai[products[d[2]]] + gammau[users[d[0]]].dot(gammai[products[d[2]]]))\n",
    "        for i in range(6,len(d), 2):\n",
    "            term += (betaijl[genres[d[i]]][genres[d[3]]] - betaijl[genres[d[i]]][genres[d[4]]])  * np.log10(d[i+1])\n",
    "        for i in xrange(5, len(d)):\n",
    "            term +=  betaijs[genres[d[i]]][genres[d[3]]] - betaijs[genres[d[i]]][genres[d[4]]]\n",
    "            break\n",
    "        J+= np.logaddexp(0, -term)\n",
    "    return J"
   ]
  },
  {
   "cell_type": "code",
   "execution_count": 88,
   "metadata": {
    "collapsed": false
   },
   "outputs": [],
   "source": [
    "k = 10\n",
    "betai = np.random.normal(0,0.1, len(products))\n",
    "betaijs = np.random.normal(0,0.1, (gside,gside))\n",
    "betaijl = np.random.normal(0,0.1, (gside,gside))\n",
    "gammai = np.random.normal(0, 0.1, (len(products), k))\n",
    "gammau = np.random.normal(0, 0.1, (len(users), k))\n",
    "for u in users:\n",
    "    if u not in uintrain:\n",
    "        gammau[users[u]] = 0\n",
    "for p in products:\n",
    "    if p not in pintrain:\n",
    "        gammai[products[p]]=0\n",
    "        betai[products[p]]=0\n",
    "for g in gss:\n",
    "    if g not in gsintrain:\n",
    "        betaijs[genres[g[0]]][genres[g[1]]] = 0\n",
    "for g in gsl:\n",
    "    if g not in glintrain:\n",
    "        betaijl[genres[g[0]]][genres[g[1]]] = 0\n",
    "initial = list(betai) + list(betaijs.flatten()) + list(betaijl.flatten()) + list(gammau.flatten()) + list(gammai.flatten())"
   ]
  },
  {
   "cell_type": "code",
   "execution_count": 91,
   "metadata": {
    "collapsed": true
   },
   "outputs": [],
   "source": [
    "class ConvergedException(Exception):\n",
    "    pass\n",
    "def check_updated(xk):\n",
    "    global result\n",
    "    global presult\n",
    "    global maxauc\n",
    "    global count\n",
    "    global mincost\n",
    "    global nit\n",
    "    \n",
    "    nit+=1\n",
    "\n",
    "#     ccost = cost(xk, k, dvalid)\n",
    "    \n",
    "#     if ccost> mincost:\n",
    "#         count +=1\n",
    "#         if count == 30:\n",
    "#             print 'here'\n",
    "#             result[:] = presult\n",
    "#             raise ConvergedException()\n",
    "#             return\n",
    "\n",
    "#     else:\n",
    "#         mincost = ccost\n",
    "#         presult[:] = xk\n",
    "#         count = 0\n",
    "#     fpr, tpr, _ = roc_curve(getLabels(dvalid),getPredictions_score(dvalid, xk, k))\n",
    "    cauc = AUC(dvalid, xk, k)\n",
    "    if cauc < maxauc:\n",
    "        count +=1\n",
    "        if count == 30:\n",
    "            print 'here'\n",
    "            result[:] = presult\n",
    "            raise ConvergedException()\n",
    "    else: \n",
    "        maxauc = cauc\n",
    "        count = 0\n",
    "        presult[:] = xk\n",
    "    print maxauc, AUC(dtest, xk, k)"
   ]
  },
  {
   "cell_type": "code",
   "execution_count": 92,
   "metadata": {
    "collapsed": false
   },
   "outputs": [
    {
     "name": "stdout",
     "output_type": "stream",
     "text": [
      "0.506067961165 0.51061249242\n",
      "0.541868932039 0.544572468163\n",
      "0.615291262136 0.612492419648\n",
      "0.640776699029 0.651910248636\n",
      "0.666262135922 0.673741661613\n",
      "0.680825242718 0.690115221346\n",
      "0.68567961165 0.693147362038\n",
      "0.703883495146 0.715585203153\n",
      "0.703883495146 0.731352334748\n",
      "0.706310679612 0.73438447544\n",
      "0.706310679612 0.732565191025\n",
      "0.706310679612 0.731352334748\n",
      "0.706310679612 0.708308065494\n",
      "0.706310679612 0.714372346877\n",
      "0.706310679612 0.721649484536\n",
      "0.706310679612 0.72043662826\n",
      "0.706310679612 0.719830200121\n",
      "0.706310679612 0.710127349909\n",
      "0.706310679612 0.701030927835\n",
      "0.706310679612 0.697998787144\n",
      "0.706310679612 0.698605215282\n",
      "0.706310679612 0.703456640388\n",
      "0.706310679612 0.70285021225\n",
      "0.706310679612 0.707701637356\n",
      "0.706310679612 0.710733778047\n",
      "0.706310679612 0.711946634324\n",
      "0.706310679612 0.709520921771\n",
      "0.706310679612 0.708914493633\n",
      "0.706310679612 0.712553062462\n",
      "0.706310679612 0.710127349909\n",
      "0.71177184466 0.716191631292\n",
      "0.712985436893 0.716191631292\n",
      "0.71359223301 0.722255912674\n",
      "0.722087378641 0.729533050334\n",
      "0.726334951456 0.722255912674\n",
      "0.726334951456 0.723468768951\n",
      "0.726334951456 0.726500909642\n",
      "0.726334951456 0.725894481504\n",
      "0.726334951456 0.730139478472\n",
      "0.730582524272 0.73438447544\n",
      "0.732402912621 0.736203759854\n",
      "0.732402912621 0.731958762887\n",
      "0.73604368932 0.737416616131\n",
      "0.73604368932 0.738023044269\n",
      "0.736650485437 0.745300181928\n",
      "0.739077669903 0.748938750758\n",
      "0.739684466019 0.742268041237\n",
      "0.739684466019 0.750758035173\n",
      "0.739684466019 0.756215888417\n",
      "0.739684466019 0.751970891449\n",
      "0.739684466019 0.756215888417\n",
      "0.739684466019 0.753183747726\n",
      "0.739684466019 0.756215888417\n",
      "0.741504854369 0.750151607035\n",
      "0.741504854369 0.751970891449\n",
      "0.741504854369 0.755003032141\n",
      "0.741504854369 0.761673741662\n",
      "0.741504854369 0.764705882353\n",
      "0.741504854369 0.764099454215\n",
      "0.743932038835 0.760460885385\n",
      "0.747572815534 0.762886597938\n",
      "0.747572815534 0.761673741662\n",
      "0.751213592233 0.767131594906\n",
      "0.751213592233 0.761673741662\n",
      "0.751213592233 0.766525166768\n",
      "0.751213592233 0.765918738629\n",
      "0.751213592233 0.763493026076\n",
      "0.751213592233 0.764705882353\n",
      "0.752427184466 0.765918738629\n",
      "0.755461165049 0.765312310491\n",
      "0.755461165049 0.766525166768\n",
      "0.760315533981 0.770770163736\n",
      "0.760315533981 0.771376591874\n",
      "0.760315533981 0.77258944815\n",
      "0.760315533981 0.771376591874\n",
      "0.760315533981 0.769557307459\n",
      "0.760315533981 0.769557307459\n",
      "0.760315533981 0.773195876289\n",
      "0.761529126214 0.770163735597\n",
      "0.761529126214 0.771983020012\n",
      "0.76213592233 0.773802304427\n",
      "0.763349514563 0.777440873257\n",
      "0.766383495146 0.775015160703\n",
      "0.766383495146 0.774408732565\n",
      "0.766383495146 0.773195876289\n",
      "0.766383495146 0.774408732565\n",
      "0.766383495146 0.774408732565\n",
      "0.766990291262 0.773802304427\n",
      "0.768203883495 0.773195876289\n",
      "0.768203883495 0.77622801698\n",
      "0.768203883495 0.773802304427\n",
      "0.769417475728 0.775621588842\n",
      "0.770024271845 0.77622801698\n",
      "0.770024271845 0.775621588842\n",
      "0.770024271845 0.777440873257\n",
      "0.770024271845 0.77986658581\n",
      "0.770024271845 0.782292298363\n",
      "0.771844660194 0.782292298363\n",
      "0.773665048544 0.783505154639\n",
      "0.773665048544 0.782898726501\n",
      "0.773665048544 0.785324439054\n",
      "0.773665048544 0.786537295331\n",
      "0.773665048544 0.787750151607\n",
      "0.775485436893 0.788963007884\n",
      "0.776699029126 0.79017586416\n",
      "0.777912621359 0.790782292298\n",
      "0.777912621359 0.791388720437\n",
      "0.779126213592 0.79017586416\n",
      "0.779733009709 0.79017586416\n",
      "0.779733009709 0.788963007884\n",
      "0.779733009709 0.784718010916\n",
      "0.779733009709 0.788356579745\n",
      "0.779733009709 0.787143723469\n",
      "0.779733009709 0.787143723469\n",
      "0.779733009709 0.787750151607\n",
      "0.779733009709 0.789569436022\n",
      "0.782160194175 0.786537295331\n",
      "0.782160194175 0.787750151607\n",
      "0.782766990291 0.787750151607\n",
      "0.782766990291 0.788963007884\n",
      "0.782766990291 0.788356579745\n",
      "0.782766990291 0.788356579745\n",
      "0.782766990291 0.787750151607\n",
      "0.782766990291 0.788356579745\n",
      "0.782766990291 0.788356579745\n",
      "0.782766990291 0.788963007884\n",
      "0.782766990291 0.787750151607\n",
      "0.782766990291 0.786537295331\n",
      "0.782766990291 0.785930867192\n",
      "0.782766990291 0.787143723469\n",
      "0.782766990291 0.787143723469\n",
      "0.782766990291 0.786537295331\n",
      "0.782766990291 0.785930867192\n",
      "0.782766990291 0.786537295331\n",
      "0.782766990291 0.786537295331\n",
      "0.782766990291 0.786537295331\n",
      "0.782766990291 0.786537295331\n",
      "0.782766990291 0.785930867192\n",
      "0.782766990291 0.785930867192\n",
      "0.782766990291 0.784718010916\n",
      "0.782766990291 0.785930867192\n",
      "0.782766990291 0.784718010916\n",
      "0.782766990291 0.784718010916\n",
      "0.782766990291 0.784718010916\n",
      "0.782766990291 0.785324439054\n",
      "0.782766990291 0.786537295331\n",
      "0.782766990291 0.785324439054\n",
      "0.782766990291 0.786537295331\n",
      "here\n",
      "converged after :149\n",
      "0.01 -> 0.01 : 818.555932412 759.34170757 0.782766990291 0.787750151607\n"
     ]
    }
   ],
   "source": [
    "lams1 = [0.01]\n",
    "lams2 = [0.01]\n",
    "lams3 = [0.01]\n",
    "for l1 in lams1:\n",
    "    for l2 in lams2: \n",
    "        for l3 in lams3:\n",
    "            count = 0\n",
    "            presult = []\n",
    "            result = []\n",
    "            params = []\n",
    "            maxauc = 0\n",
    "            mincost = 100000000000000\n",
    "            nit = 0\n",
    "            try:\n",
    "                params, c,d = fmin_l_bfgs_b(compute_cost, x0=initial,args=(l1, l2,l3, k, dtrain, ), disp = 0, callback=check_updated)\n",
    "                params = presult\n",
    "                print 'normal'\n",
    "            except ConvergedException:\n",
    "                params = result\n",
    "            print 'converged after :' + str(nit)\n",
    "            print str(l1) + ' -> '+ str(l2) + ' : '+ str(cost(params, k, dvalid)) + ' ' +  str(cost(params, k , dtest)) + ' ' + str(AUC(dvalid, params, k)) + ' ' + str(AUC(dtest, params, k))"
   ]
  },
  {
   "cell_type": "code",
   "execution_count": 93,
   "metadata": {
    "collapsed": false
   },
   "outputs": [
    {
     "name": "stdout",
     "output_type": "stream",
     "text": [
      "0.01 -> 0.01 : 818.555932412 759.34170757 0.782766990291 0.787750151607\n"
     ]
    }
   ],
   "source": [
    "print str(l1) + ' -> '+ str(l2) + ' : '+ str(cost(params, k, dvalid)) + ' ' +  str(cost(params, k , dtest)) + ' ' + str(AUC(dvalid, params, k)) + ' ' + str(AUC(dtest, params, k))"
   ]
  },
  {
   "cell_type": "code",
   "execution_count": 147,
   "metadata": {
    "collapsed": false,
    "scrolled": true
   },
   "outputs": [
    {
     "name": "stdout",
     "output_type": "stream",
     "text": [
      "here\n",
      "converged after :145\n",
      "0.001 -> 0 : 0.999179735585\n",
      "here\n",
      "converged after :203\n",
      "0.001 -> 1e-05 : 0.99960204163\n",
      "here\n",
      "converged after :215\n",
      "0.001 -> 0.0001 : 0.999903883038\n",
      "here\n",
      "converged after :191\n",
      "0.001 -> 0.001 : 0.999884449102\n",
      "here\n",
      "converged after :180\n",
      "0.001 -> 0.01 : 0.999875461705\n",
      "here\n",
      "converged after :186\n",
      "0.001 -> 0.1 : 0.999877538862\n",
      "here\n",
      "converged after :236\n",
      "0.001 -> 1 : 0.999863228161\n",
      "here\n",
      "converged after :623\n",
      "0.001 -> 10 : 0.999884632411\n",
      "here\n",
      "converged after :119\n",
      "0.001 -> 100 : 0.993877891076\n",
      "here\n",
      "converged after :264\n",
      "0.001 -> 1000 : 0.991662602506\n",
      "here\n",
      "converged after :279\n",
      "0.001 -> 10000 : 0.976040141602\n"
     ]
    }
   ],
   "source": [
    "# lams = [0, 0.0001, 0.001, 0.01, 0.1, 1, 10]\n",
    "lams1 = [0.001]\n",
    "lams2 = [0, 0.00001, 0.0001, 0.001, 0.01, 0.1, 1, 10, 100, 1000, 10000]\n",
    "with open('Binary baseline - Pairwise genre bias terms (Adjacent) 400 core.csv', 'wb') as f:\n",
    "    writer = csv.DictWriter(f, fieldnames=['lambda1', 'lambda2','k','value'])\n",
    "    writer.writeheader()\n",
    "    for l1 in lams1:\n",
    "         for l2 in lams2:\n",
    "            count = 0\n",
    "            nit = 0\n",
    "            presult = []\n",
    "            result = []\n",
    "            maxauc = 0\n",
    "            params = []\n",
    "            mincost = 100000000\n",
    "            try:\n",
    "                params, c,d = fmin_l_bfgs_b(compute_cost, x0=initial,args=(l1, l2, k, dtrain, ), disp = 0, callback = check)\n",
    "                params = presult\n",
    "            except ConvergedException:\n",
    "                params = result\n",
    "            print 'converged after :' + str(nit)\n",
    "            fpr, tpr, _ = roc_curve(getLabels(dvalid),getPredictions_score(dvalid, params, k))\n",
    "            print str(l1) + ' -> ' + str(l2) + ' : ' +  str(auc(fpr, tpr))\n",
    "\n",
    "#             print str(l1) + ' -> ' + str(l2) + ' : ' +  str(cost(params, k, dvalid))\n",
    "            for i, v in enumerate(params):\n",
    "                writer.writerow({'lambda1': l1, 'lambda2': l2, 'k': k, 'value': v}) "
   ]
  },
  {
   "cell_type": "code",
   "execution_count": 148,
   "metadata": {
    "collapsed": false
   },
   "outputs": [
    {
     "name": "stdout",
     "output_type": "stream",
     "text": [
      "116732\n"
     ]
    }
   ],
   "source": [
    "print len(initial)"
   ]
  },
  {
   "cell_type": "code",
   "execution_count": 149,
   "metadata": {
    "collapsed": false
   },
   "outputs": [],
   "source": [
    "params = defaultdict(lambda:defaultdict(list))\n",
    "with open('Binary baseline - Pairwise genre bias terms (Adjacent) 400 core.csv', 'rb') as csvfile:\n",
    "    reader = csv.DictReader(csvfile)\n",
    "    for row in reader:\n",
    "        params[(float(row['lambda1']), float(row['lambda2']))][int(row['k'])].append(float(row['value']))"
   ]
  },
  {
   "cell_type": "code",
   "execution_count": 150,
   "metadata": {
    "collapsed": false
   },
   "outputs": [
    {
     "name": "stdout",
     "output_type": "stream",
     "text": [
      "11\n"
     ]
    }
   ],
   "source": [
    "print len(params)"
   ]
  },
  {
   "cell_type": "code",
   "execution_count": 151,
   "metadata": {
    "collapsed": false
   },
   "outputs": [],
   "source": [
    "#takes dictionary of parameters in the form of  {lambda value: k value: [parameters]} and choose the lambda value and k value that\n",
    "#minimize the balanced error rate\n",
    "def chooseBestParams(data, params):\n",
    "    minError = 1000000000\n",
    "    maxauc = 0\n",
    "    labs = getLabels(data)\n",
    "    for l in params:\n",
    "        for k in params[l]:\n",
    "#             fpr, tpr, _ = roc_curve(getLabels(dvalid),getPredictions_score(dvalid, params[l][k], k))\n",
    "#             cauc = auc(fpr,tpr)\n",
    "#             if cauc > maxauc:\n",
    "#                 maxauc = cauc\n",
    "#                 minlam = l\n",
    "#                 op = params[l][k]\n",
    "\n",
    "\n",
    "            e = cost(params[l][k], k, data)\n",
    "#             print l, e\n",
    "#             print l, k , e\n",
    "            if e < minError:\n",
    "                minError = e\n",
    "                minlam = l\n",
    "                op = params[l][k]\n",
    "    return minlam, op, minError"
   ]
  },
  {
   "cell_type": "code",
   "execution_count": 152,
   "metadata": {
    "collapsed": false
   },
   "outputs": [
    {
     "name": "stdout",
     "output_type": "stream",
     "text": [
      "(0.001, 0.001) 9.93178579845\n"
     ]
    }
   ],
   "source": [
    "minlam, op, e = chooseBestParams(dvalid, params)\n",
    "print minlam,e "
   ]
  },
  {
   "cell_type": "code",
   "execution_count": 153,
   "metadata": {
    "collapsed": false
   },
   "outputs": [
    {
     "name": "stdout",
     "output_type": "stream",
     "text": [
      "10.5266741589\n"
     ]
    }
   ],
   "source": [
    "print cost(op, k, dtest)"
   ]
  },
  {
   "cell_type": "code",
   "execution_count": 154,
   "metadata": {
    "collapsed": false
   },
   "outputs": [
    {
     "name": "stdout",
     "output_type": "stream",
     "text": [
      "0.743070239412\n"
     ]
    }
   ],
   "source": [
    "print cost(op, k, dtrain)"
   ]
  },
  {
   "cell_type": "code",
   "execution_count": 155,
   "metadata": {
    "collapsed": false
   },
   "outputs": [
    {
     "name": "stdout",
     "output_type": "stream",
     "text": [
      "0.999900908189\n"
     ]
    }
   ],
   "source": [
    "fpr, tpr, _ = roc_curve(getLabels(dtest),getPredictions_score(dtest, op, k))\n",
    "roc_auc = auc(fpr,tpr)\n",
    "print roc_auc"
   ]
  },
  {
   "cell_type": "code",
   "execution_count": 156,
   "metadata": {
    "collapsed": false
   },
   "outputs": [
    {
     "name": "stdout",
     "output_type": "stream",
     "text": [
      "0.999999985335\n"
     ]
    }
   ],
   "source": [
    "fpr, tpr, _ = roc_curve(getLabels(dtrain),getPredictions_score(dtrain, op, k))\n",
    "roc_auc = auc(fpr,tpr)\n",
    "print roc_auc"
   ]
  },
  {
   "cell_type": "code",
   "execution_count": 157,
   "metadata": {
    "collapsed": false
   },
   "outputs": [
    {
     "name": "stdout",
     "output_type": "stream",
     "text": [
      "0.156993775174\n"
     ]
    }
   ],
   "source": [
    "preds = getPredictions(dtest, op, k)\n",
    "labels = getLabels(dtest)\n",
    "print BER(preds, labels)"
   ]
  },
  {
   "cell_type": "code",
   "execution_count": null,
   "metadata": {
    "collapsed": false
   },
   "outputs": [],
   "source": [
    "# from sklearn.metrics import roc_curve, auc\n",
    "# import matplotlib.pyplot as plt\n",
    "# plt.figure()\n",
    "# plt.plot(fpr, tpr, label='ROC curve (area = %0.5f)' % roc_auc)\n",
    "# plt.plot([0, 1], [0, 1], 'k--')\n",
    "# plt.xlim([0.0, 1.0])\n",
    "# plt.ylim([0.0, 1.05])\n",
    "# plt.xlabel('False Positive Rate')\n",
    "# plt.ylabel('True Positive Rate')\n",
    "# plt.title('ROC Curve Adjacent')\n",
    "# plt.legend(loc=\"lower right\")\n",
    "# plt.show()"
   ]
  },
  {
   "cell_type": "code",
   "execution_count": 192,
   "metadata": {
    "collapsed": false
   },
   "outputs": [],
   "source": [
    "# labs = getLabels(dtest)\n",
    "# preds = getPredictions(dtest, op,mink)\n",
    "# e = BER(preds,labs)\n",
    "# print e"
   ]
  },
  {
   "cell_type": "code",
   "execution_count": null,
   "metadata": {
    "collapsed": true
   },
   "outputs": [],
   "source": []
  },
  {
   "cell_type": "code",
   "execution_count": 31,
   "metadata": {
    "collapsed": false
   },
   "outputs": [],
   "source": [
    "# mink = 1\n",
    "# minlam = 10\n",
    "# betai = np.random.normal(0,0.1, len(products))\n",
    "# betaij = np.random.normal(0,0.1, (gside, gside))\n",
    "# gammai = np.random.normal(0, 0.01, (len(products), mink))\n",
    "# gammau = np.random.normal(0, 0.01, (len(users), mink))\n",
    "# initial = list(betai.flatten())+ list(betaij.flatten()) + list(gammau.flatten()) + list(gammai.flatten())\n",
    "# grad = gradient(betai,betaij, gammau, gammai, minlam,mink, dtrain[:1])\n",
    "# numgrad = computeNumericalGradient(initial,grad, minlam, mink, dtrain[:1])"
   ]
  },
  {
   "cell_type": "code",
   "execution_count": 54,
   "metadata": {
    "collapsed": true
   },
   "outputs": [],
   "source": [
    "def compute_cost1(initial,lam,k, dataset):\n",
    "    betai = np.array(initial[:len(products)])\n",
    "    end = len(products)\n",
    "    bij = np.array(initial[end: end+(gside**2)])\n",
    "    betaij = bij.reshape(gside, gside)\n",
    "    end = end + (gside**2)\n",
    "    gammas = np.array(initial[end:])\n",
    "    gss = gammas.reshape(len(users)+len(products), k)\n",
    "    gammau = gss[:len(users),:]\n",
    "    gammai = gss[len(users):, :]\n",
    "    J = 0\n",
    "    for d in dataset: \n",
    "        term = (betai[products[d[1]]] +gammau[users[d[0]]].dot(gammai[products[d[1]]]))-(betai[products[d[2]]] +gammau[users[d[0]]].dot(gammai[products[d[2]]]))\n",
    "        for i in range(5,len(d)):\n",
    "            term += betaij[genres[d[i]]][genres[d[3]]] - betaij[genres[d[i]]][genres[d[4]]]\n",
    "\n",
    "        J+= np.logaddexp(0, -term)\n",
    "    for u in us:\n",
    "        J += lam * np.sum(np.square(gammau[users[u]]))\n",
    "    for p in ps:\n",
    "        J+= lam * ( np.square(betai[products[p]]) + np.sum(np.square(gammai[products[p]])))\n",
    "    for g in gs:\n",
    "        J+= lam * np.square(betaij[genres[g[0]]][genres[g[1]]])\n",
    "\n",
    "#     print J\n",
    "    return J"
   ]
  },
  {
   "cell_type": "code",
   "execution_count": 55,
   "metadata": {
    "collapsed": false
   },
   "outputs": [],
   "source": [
    "def gradient1(initial, lam,k, dataset):\n",
    "    betai = np.array(initial[:len(products)])\n",
    "    end = len(products)\n",
    "    bij = np.array(initial[end: end+(gside**2)])\n",
    "    betaij = bij.reshape(gside, gside)\n",
    "    end = end + (gside**2)\n",
    "    gammas = np.array(initial[end:])\n",
    "    gss = gammas.reshape(len(users)+len(products), k)\n",
    "    gammau = gss[:len(users),:]\n",
    "    gammai = gss[len(users):, :]\n",
    "    gbi = np.zeros(len(products))\n",
    "    ggu = np.zeros((len(users),k))\n",
    "    ggi = np.zeros((len(products),k))\n",
    "    ggij = np.zeros((gside,gside))\n",
    "    \n",
    "    for d in dataset:\n",
    "        term = (betai[products[d[1]]] + gammau[users[d[0]]].dot(gammai[products[d[1]]])) -(betai[products[d[2]]] + gammau[users[d[0]]].dot(gammai[products[d[2]]]))    \n",
    "        \n",
    "        for i in range(5,len(d)):\n",
    "            term += betaij[genres[d[i]]][genres[d[3]]] - betaij[genres[d[i]]][genres[d[4]]]\n",
    "        try:\n",
    "            f = np.exp(-term) * sigmoid(term)\n",
    "        except RuntimeWarning:\n",
    "            f = float((bigfloat.exp(-term, bigfloat.precision(100))) * (sigmoid(term)))\n",
    "        ggu[users[d[0]]] += (gammai[products[d[2]]] - gammai[products[d[1]]]) * f\n",
    "        ggi[products[d[1]]]  += (-gammau[users[d[0]]]) * f\n",
    "        ggi[products[d[2]]] += gammau[users[d[0]]] * f\n",
    "        gbi[products[d[1]]] += (-1) *f\n",
    "        gbi[products[d[2]]] += f\n",
    "        for i in range(5,len(d)):\n",
    "            ggij[genres[d[i]]][genres[d[3]]] += (-1) * f\n",
    "            ggij[genres[d[i]]][genres[d[4]]] += f\n",
    "\n",
    "    for u in us:\n",
    "        ggu[users[u]] += 2 * lam * gammau[users[u]]\n",
    "    for p in ps:\n",
    "        gbi[products[p]] += 2 * lam * betai[products[p]]\n",
    "        ggi[products[p]] += 2 * lam * gammai[products[p]]\n",
    "    for g in gs:\n",
    "        ggij[genres[g[0]]][genres[g[1]]] += 2 * lam * betaij[genres[g[0]]][genres[g[1]]]\n",
    "    \n",
    "    l = list(gbi) + list(ggij.flatten()) + list(ggu.flatten()) + list(ggi.flatten())\n",
    "\n",
    "    return np.array(l)    "
   ]
  },
  {
   "cell_type": "code",
   "execution_count": 62,
   "metadata": {
    "collapsed": true
   },
   "outputs": [],
   "source": [
    "def computeNumericalGradient(params,grad, l1, l2, k, data):\n",
    "    e = 1e-4\n",
    "    numgrads = np.zeros(len(params))\n",
    "    pp = np.zeros(len(params))\n",
    "    for i,p in enumerate(params):\n",
    "        pp[i] = e\n",
    "        loss1, _ = compute_cost(params-pp, l1, l2, k,data)\n",
    "        loss2, _ = compute_cost(params+pp, l1,l2,k, data)\n",
    "#         print loss1, loss2\n",
    "        numgrads[i] = (loss2 - loss1) / float(2*e)\n",
    "        pp[i] = 0\n",
    "        print round(numgrads[i], 3), round(grad[i], 3)\n",
    "#         print abs(numgrads[i]-grad[i])\n",
    "    return numgrads"
   ]
  },
  {
   "cell_type": "code",
   "execution_count": null,
   "metadata": {
    "collapsed": false,
    "scrolled": true
   },
   "outputs": [],
   "source": [
    "# _,g = compute_cost(initial, 0.1, 1, 10, dtrain[:1])\n",
    "# numgrad = computeNumericalGradient(initial,g ,0.1, 1 , 10 , dtrain[:1] )"
   ]
  },
  {
   "cell_type": "code",
   "execution_count": 57,
   "metadata": {
    "collapsed": true
   },
   "outputs": [],
   "source": [
    "diff = np.linalg.norm(numgrad-g)/np.linalg.norm(numgrad+g);"
   ]
  },
  {
   "cell_type": "code",
   "execution_count": 58,
   "metadata": {
    "collapsed": false
   },
   "outputs": [
    {
     "name": "stdout",
     "output_type": "stream",
     "text": [
      "True\n"
     ]
    }
   ],
   "source": [
    "print diff < 1e-9"
   ]
  },
  {
   "cell_type": "code",
   "execution_count": 59,
   "metadata": {
    "collapsed": false
   },
   "outputs": [
    {
     "name": "stdout",
     "output_type": "stream",
     "text": [
      "1.2923313768e-10\n"
     ]
    }
   ],
   "source": [
    "print diff"
   ]
  },
  {
   "cell_type": "code",
   "execution_count": null,
   "metadata": {
    "collapsed": true
   },
   "outputs": [],
   "source": [
    "print compute_cost(params, 0, 10, dtrain)"
   ]
  },
  {
   "cell_type": "code",
   "execution_count": null,
   "metadata": {
    "collapsed": true
   },
   "outputs": [],
   "source": []
  }
 ],
 "metadata": {
  "kernelspec": {
   "display_name": "Python 2",
   "language": "python",
   "name": "python2"
  },
  "language_info": {
   "codemirror_mode": {
    "name": "ipython",
    "version": 2
   },
   "file_extension": ".py",
   "mimetype": "text/x-python",
   "name": "python",
   "nbconvert_exporter": "python",
   "pygments_lexer": "ipython2",
   "version": "2.7.11"
  }
 },
 "nbformat": 4,
 "nbformat_minor": 0
}
