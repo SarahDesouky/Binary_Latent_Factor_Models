{
 "cells": [
  {
   "cell_type": "code",
   "execution_count": 2,
   "metadata": {
    "collapsed": true
   },
   "outputs": [],
   "source": [
    "import numpy as np\n",
    "import scipy as sc\n",
    "import pylab as py\n",
    "import gzip\n",
    "import math\n",
    "from scipy.optimize import fmin_bfgs, fmin_l_bfgs_b, fmin_cg\n",
    "from collections import defaultdict\n",
    "import heapq\n",
    "import copy\n",
    "from sklearn.metrics import roc_curve, auc\n",
    "import matplotlib.pyplot as plt\n",
    "import operator\n",
    "import csv\n",
    "import hashlib\n",
    "from math import exp\n",
    "from math import log\n",
    "import bigfloat\n",
    "import warnings\n",
    "warnings.filterwarnings(\"error\")\n",
    "from sklearn.metrics import roc_curve, auc\n",
    "import matplotlib.pyplot as plt\n",
    "import random"
   ]
  },
  {
   "cell_type": "code",
   "execution_count": 39,
   "metadata": {
    "collapsed": false
   },
   "outputs": [],
   "source": [
    "data = []\n",
    "with open('500 core subset filtered.csv', 'rb') as csvfile:\n",
    "    reader = csv.DictReader(csvfile)\n",
    "    for row in reader:\n",
    "        data.append((row['uid'], row['pid'], row['rating'], row['time']))"
   ]
  },
  {
   "cell_type": "code",
   "execution_count": 40,
   "metadata": {
    "collapsed": false
   },
   "outputs": [
    {
     "name": "stdout",
     "output_type": "stream",
     "text": [
      "8241 ('A13G1TKIKHGV3F', '0060518499', '4.0', '1237075200')\n"
     ]
    }
   ],
   "source": [
    "print len(data), data[0]"
   ]
  },
  {
   "cell_type": "code",
   "execution_count": 41,
   "metadata": {
    "collapsed": false
   },
   "outputs": [],
   "source": [
    "itemsuserrated = defaultdict(lambda: list())\n",
    "useritems = defaultdict(lambda: list())\n",
    "for d in data:\n",
    "    itemsuserrated[d[0]].append((d[1], d[3]))\n",
    "\n",
    "for u in itemsuserrated:\n",
    "    items = itemsuserrated[u]\n",
    "    isorted = sorted(items, key = lambda tup: tup[1])\n",
    "    itemsuserrated[u] = isorted\n",
    "    useritems[u] = [i[0] for i in isorted]"
   ]
  },
  {
   "cell_type": "code",
   "execution_count": 42,
   "metadata": {
    "collapsed": false
   },
   "outputs": [],
   "source": [
    "ps = set()\n",
    "for d in data:\n",
    "    ps.add(d[1])\n",
    "with open('500 core subset - with items not rated.csv', 'wb') as f:\n",
    "    writer = csv.DictWriter(f, fieldnames=['user','irated','inrated'])\n",
    "    writer.writeheader()\n",
    "    for user in useritems:\n",
    "        itemsrated = useritems[user] \n",
    "        for i in itemsrated:\n",
    "            notrated = random.sample(ps.difference(itemsrated),1)\n",
    "            for n in notrated:\n",
    "                writer.writerow({'user': user, 'irated': i, 'inrated': n})"
   ]
  },
  {
   "cell_type": "code",
   "execution_count": 44,
   "metadata": {
    "collapsed": true
   },
   "outputs": [],
   "source": [
    "np.random.shuffle(data)\n",
    "with open('500 core subset - with items not rated.csv', 'wb') as f:\n",
    "    writer = csv.DictWriter(f, fieldnames=['user','irated','inrated'])\n",
    "    writer.writeheader()\n",
    "    for d in data:\n",
    "        writer.writerow({'user': d[0], 'irated': d[1], 'inrated': d[2]})"
   ]
  },
  {
   "cell_type": "code",
   "execution_count": 45,
   "metadata": {
    "collapsed": false
   },
   "outputs": [],
   "source": [
    "data = []\n",
    "with open('500 core subset - with items not rated.csv', 'rb') as csvfile:\n",
    "    reader = csv.DictReader(csvfile)\n",
    "    for row in reader:\n",
    "        data.append((row['user'], row['irated'], row['inrated']))"
   ]
  },
  {
   "cell_type": "code",
   "execution_count": 46,
   "metadata": {
    "collapsed": false
   },
   "outputs": [
    {
     "name": "stdout",
     "output_type": "stream",
     "text": [
      "('A2AYSFGUP5VTY3', '1856498050', '1401202209') ('A2OJW07GQRNJUT', 'B000K3B5W4', '0962558680')\n"
     ]
    }
   ],
   "source": [
    "print data[0], data[1]"
   ]
  },
  {
   "cell_type": "code",
   "execution_count": 47,
   "metadata": {
    "collapsed": true
   },
   "outputs": [],
   "source": [
    "ps = set()\n",
    "us = set()\n",
    "for d in data:\n",
    "    ps.add(d[1])\n",
    "    ps.add(d[2])\n",
    "    us.add(d[0])"
   ]
  },
  {
   "cell_type": "code",
   "execution_count": 48,
   "metadata": {
    "collapsed": false
   },
   "outputs": [
    {
     "name": "stdout",
     "output_type": "stream",
     "text": [
      "10\n",
      "7976\n",
      "8241\n"
     ]
    }
   ],
   "source": [
    "print len(us)\n",
    "print len(ps)\n",
    "print len(data)"
   ]
  },
  {
   "cell_type": "code",
   "execution_count": 49,
   "metadata": {
    "collapsed": false
   },
   "outputs": [],
   "source": [
    "users = {}\n",
    "products = {}\n",
    "for i,u in enumerate(us):\n",
    "    users[u] = i\n",
    "for j,p in enumerate(ps):\n",
    "    products[p] = j"
   ]
  },
  {
   "cell_type": "code",
   "execution_count": 50,
   "metadata": {
    "collapsed": false
   },
   "outputs": [],
   "source": [
    "# # np.random.shuffle(data)\n",
    "# dtest = set()\n",
    "# dvalid= set() #to choose best regualrization parameter and dimninsionality of factor vectors \n",
    "# dtestusers = defaultdict(int)\n",
    "# dvalidusers = defaultdict(int)\n",
    "# for r in data:\n",
    "#     cr = len(useritems[r[0]])\n",
    "#     vc = int((cr * 30)/float(100))\n",
    "#     if dtestusers[r[0]]< vc:\n",
    "#         dtestusers[r[0]] +=1\n",
    "#         dtest.add(r)\n",
    "#     if r not in dtest and dvalidusers[r[0]]<vc:\n",
    "#         dvalidusers[r[0]]+=1\n",
    "#         dvalid.add(r)\n",
    "\n",
    "# dtrain = set()\n",
    "# for r in data:\n",
    "#     if r not in dtest and r not in dvalid:\n",
    "#         dtrain.add(r)\n",
    "# dtrain = list(dtrain)\n",
    "# dtest = list(dtest)"
   ]
  },
  {
   "cell_type": "code",
   "execution_count": 51,
   "metadata": {
    "collapsed": false
   },
   "outputs": [
    {
     "name": "stdout",
     "output_type": "stream",
     "text": [
      "4944 1648 1649 8241\n",
      "True\n"
     ]
    }
   ],
   "source": [
    "x60 = int((len(data) * 60) / float(100))\n",
    "x20 = int((len(data) * 20) / float(100))\n",
    "dtrain = data[:x60]\n",
    "dvalid = data[x60: x60+ x20]\n",
    "end =  x60+ x20\n",
    "dtest = data[end:]\n",
    "print len(dtrain), len(dvalid), len(dtest), len(data)\n",
    "print len(dtrain) + len(dvalid) + len(dtest) == len(data)"
   ]
  },
  {
   "cell_type": "code",
   "execution_count": null,
   "metadata": {
    "collapsed": false
   },
   "outputs": [],
   "source": []
  },
  {
   "cell_type": "code",
   "execution_count": 52,
   "metadata": {
    "collapsed": false
   },
   "outputs": [
    {
     "name": "stdout",
     "output_type": "stream",
     "text": [
      "8241 8241 8241\n"
     ]
    }
   ],
   "source": [
    "print len(dtrain) + len(dvalid)+ len(dtest), len(data), len(set(data))"
   ]
  },
  {
   "cell_type": "code",
   "execution_count": 53,
   "metadata": {
    "collapsed": false
   },
   "outputs": [
    {
     "name": "stdout",
     "output_type": "stream",
     "text": [
      "('A2AYSFGUP5VTY3', '1856498050', '1401202209')\n"
     ]
    }
   ],
   "source": [
    "print dtrain[0]"
   ]
  },
  {
   "cell_type": "code",
   "execution_count": 54,
   "metadata": {
    "collapsed": true
   },
   "outputs": [],
   "source": [
    "#balanced error rate\n",
    "def BER(predictions, labels):\n",
    "    tp =0\n",
    "    fp=0\n",
    "    tn=0\n",
    "    fn=0\n",
    "    for i,l in enumerate(labels):\n",
    "        if l==1 and predictions[i]==l:\n",
    "            tp+=1\n",
    "        if l==0 and predictions[i]==l:\n",
    "            tn+=1\n",
    "        if l==1 and predictions[i]==0:\n",
    "            fn+=1\n",
    "        if l==0 and predictions[i]==1:\n",
    "            fp+=1\n",
    "    fpr = fp / float(fp+tn)\n",
    "    fnr = fn/ float(tp+fn)\n",
    "    return 0.5 * (fpr + fnr)"
   ]
  },
  {
   "cell_type": "code",
   "execution_count": 55,
   "metadata": {
    "collapsed": false
   },
   "outputs": [],
   "source": [
    "#function that takes a dataset and the optimized parameters and the diminsionality of the factors and returns the predictions for\n",
    "#this dataset using the parmaters\n",
    "def getPredictions_score(data, op,k):\n",
    "    predictions = []\n",
    "    betaio = op[:len(products)]\n",
    "    end = len(products)\n",
    "    gs = np.array(op[end:])\n",
    "    opp = gs.reshape(len(users)+len(products),k)\n",
    "    gammus = opp[:len(users),:]\n",
    "    gammis= opp[len(users):,:]\n",
    "    for d in data:\n",
    "        p1 = betaio[products[d[1]]] + gammus[users[d[0]]].dot(gammis[products[d[1]]])\n",
    "        p2 = betaio[products[d[2]]] + gammus[users[d[0]]].dot(gammis[products[d[2]]])\n",
    "        predictions.append(sigmoid(p1))\n",
    "        predictions.append(sigmoid(p2))\n",
    "    return np.array(predictions)\n",
    "    "
   ]
  },
  {
   "cell_type": "code",
   "execution_count": 56,
   "metadata": {
    "collapsed": true
   },
   "outputs": [],
   "source": [
    "#function that takes a dataset and the optimized parameters and the diminsionality of the factors and returns the predictions for\n",
    "#this dataset using the parmaters\n",
    "def getPredictions(data, op,k):\n",
    "    predictions = []\n",
    "    betaio = op[:len(products)]\n",
    "    end = len(products)\n",
    "    gs = np.array(op[end:])\n",
    "    opp = gs.reshape(len(users)+len(products),k)\n",
    "    gammus = opp[:len(users),:]\n",
    "    gammis= opp[len(users):,:]\n",
    "    for d in data:\n",
    "        predictions.append(sigmoid(betaio[products[d[1]]] + (gammus[users[d[0]]].dot(gammis[products[d[1]]])))>0.5)\n",
    "        predictions.append(sigmoid(betaio[products[d[2]]]+ (gammus[users[d[0]]].dot(gammis[products[d[2]]])))>0.5)\n",
    "    return np.array(predictions)\n",
    "    "
   ]
  },
  {
   "cell_type": "code",
   "execution_count": 57,
   "metadata": {
    "collapsed": false
   },
   "outputs": [],
   "source": [
    "def getPrediction(d, op, k,f):\n",
    "    betaio = op[:len(products)]\n",
    "    end = len(products)\n",
    "    gs = np.array(op[end:])\n",
    "    opp = gs.reshape(len(users)+len(products),k)\n",
    "    gammus = opp[:len(users),:]\n",
    "    gammis= opp[len(users):,:]\n",
    "    if f:\n",
    "        item = d[1]\n",
    "    else:\n",
    "        item = d[2]\n",
    "    prediction  = sigmoid(betaio[products[item]] + (gammus[users[d[0]]].dot(gammis[products[item]])))\n",
    "    return prediction"
   ]
  },
  {
   "cell_type": "code",
   "execution_count": 58,
   "metadata": {
    "collapsed": true
   },
   "outputs": [],
   "source": [
    "def AUC(data, op, k):\n",
    "    count = 0\n",
    "    predictions = getPredictions_score(data, op,k)\n",
    "    for i in range(0, len(predictions), 2):\n",
    "        if predictions[i] > predictions[i+1]:\n",
    "            count +=1\n",
    "#     print count, len(data)\n",
    "    return count / float(len(data))     "
   ]
  },
  {
   "cell_type": "code",
   "execution_count": 59,
   "metadata": {
    "collapsed": false
   },
   "outputs": [],
   "source": [
    "# print AUC(dtest, params, 10)"
   ]
  },
  {
   "cell_type": "code",
   "execution_count": 60,
   "metadata": {
    "collapsed": true
   },
   "outputs": [],
   "source": [
    "#takes the data and returns the true labels for this dataset\n",
    "def getLabels(data):\n",
    "    labels = []\n",
    "    for d in data:\n",
    "        labels.append(1)\n",
    "        labels.append(0)\n",
    "    return labels"
   ]
  },
  {
   "cell_type": "code",
   "execution_count": 61,
   "metadata": {
    "collapsed": false
   },
   "outputs": [],
   "source": [
    "def sigmoid(z):\n",
    "    try:\n",
    "        f = sc.special.expit(z)\n",
    "    except RuntimeWarning:\n",
    "        f = 1/float(1 + bigfloat.exp(-z, bigfloat.precision(100)))\n",
    "    return f"
   ]
  },
  {
   "cell_type": "code",
   "execution_count": 62,
   "metadata": {
    "collapsed": false
   },
   "outputs": [],
   "source": [
    "uintrain = set()\n",
    "pintrain = set()\n",
    "for d in dtrain:\n",
    "    pintrain.add(d[1])\n",
    "    pintrain.add(d[2])\n",
    "    uintrain.add(d[0])"
   ]
  },
  {
   "cell_type": "code",
   "execution_count": 63,
   "metadata": {
    "collapsed": false
   },
   "outputs": [],
   "source": [
    "def compute_cost(initial,lam,k, dataset):\n",
    "    betai = np.array(initial[:len(products)])\n",
    "    end = len(products)\n",
    "    gammas = np.array(initial[end:])\n",
    "    gs = gammas.reshape(len(users)+len(products), k)\n",
    "    gammau = gs[:len(users),:]\n",
    "    gammai = gs[len(users):, :]\n",
    "    J = 0\n",
    "    for d in dataset: \n",
    "        term = (betai[products[d[1]]] + gammau[users[d[0]]].dot(gammai[products[d[1]]])) - (betai[products[d[2]]] + gammau[users[d[0]]].dot(gammai[products[d[2]]]))\n",
    "        J+= np.logaddexp(0, -term)\n",
    "    for u in us:\n",
    "        J += lam * np.sum(np.square(gammau[users[u]]))\n",
    "    for p in ps:\n",
    "        J+= lam * (np.square(betai[products[p]]) + np.sum(np.square(gammai[products[p]])))\n",
    "\n",
    "    g = gradient(betai,gammau,gammai,lam,k, dataset)\n",
    "#     print cost(initial, k , dtest)\n",
    "    return J,g"
   ]
  },
  {
   "cell_type": "code",
   "execution_count": 64,
   "metadata": {
    "collapsed": false
   },
   "outputs": [],
   "source": [
    "def gradient(betai,gammau,gammai, lam,k, dataset):\n",
    "    gbi = np.zeros(len(products))\n",
    "    ggu = np.zeros((len(users),k))\n",
    "    ggi = np.zeros((len(products),k))\n",
    "    \n",
    "    for d in dataset:\n",
    "        term = (betai[products[d[1]]] + gammau[users[d[0]]].dot(gammai[products[d[1]]])) - (betai[products[d[2]]] + gammau[users[d[0]]].dot(gammai[products[d[2]]]))\n",
    "        try:\n",
    "            f = np.exp(-term) * sigmoid(term)\n",
    "        except RuntimeWarning:\n",
    "            f = float((bigfloat.exp(-term, bigfloat.precision(100))) * (sigmoid(term)))\n",
    "     \n",
    "        ggu[users[d[0]]] += (gammai[products[d[2]]] - gammai[products[d[1]]]) * f\n",
    "        ggi[products[d[1]]]  += (-gammau[users[d[0]]]) * f\n",
    "        ggi[products[d[2]]] += gammau[users[d[0]]] * f\n",
    "        gbi[products[d[1]]] += (-1) * f\n",
    "        gbi[products[d[2]]] += f\n",
    "\n",
    "    for u in us:\n",
    "        ggu[users[u]] += 2 * lam * gammau[users[u]]\n",
    "    for p in ps:\n",
    "        gbi[products[p]] += 2 * lam * betai[products[p]]\n",
    "        ggi[products[p]] += 2 * lam * gammai[products[p]]\n",
    "    \n",
    "    l = list(gbi) + list(ggu.flatten()) + list(ggi.flatten())\n",
    "\n",
    "    return np.array(l)    "
   ]
  },
  {
   "cell_type": "code",
   "execution_count": 65,
   "metadata": {
    "collapsed": true
   },
   "outputs": [],
   "source": [
    "def cost(initial,k, dataset):\n",
    "    betai = np.array(initial[:len(products)])\n",
    "    end = len(products)\n",
    "    gammas = np.array(initial[end:])\n",
    "    gss = gammas.reshape(len(users)+len(products), k)\n",
    "    gammau = gss[:len(users),:]\n",
    "    gammai = gss[len(users):, :]\n",
    "    J = 0\n",
    "    for d in dataset: \n",
    "        term = (betai[products[d[1]]] +gammau[users[d[0]]].dot(gammai[products[d[1]]]))-(betai[products[d[2]]] +gammau[users[d[0]]].dot(gammai[products[d[2]]]))\n",
    "        J+= np.logaddexp(0, -term)\n",
    "   \n",
    "    return J"
   ]
  },
  {
   "cell_type": "code",
   "execution_count": null,
   "metadata": {
    "collapsed": false
   },
   "outputs": [],
   "source": []
  },
  {
   "cell_type": "code",
   "execution_count": 66,
   "metadata": {
    "collapsed": false
   },
   "outputs": [],
   "source": [
    "class ConvergedException(Exception):\n",
    "    pass\n",
    "def check(xk):\n",
    "    global result\n",
    "    global presult\n",
    "    global maxauc\n",
    "    global count\n",
    "    global mincost\n",
    "    global nit\n",
    "    \n",
    "    nit+=1\n",
    "\n",
    "    ccost = cost(xk, k, dvalid)\n",
    "    \n",
    "    if ccost> mincost:\n",
    "        if nit >=100:\n",
    "            count +=1\n",
    "            if count == 20:\n",
    "                print 'here'\n",
    "                result[:] = presult\n",
    "                raise ConvergedException()\n",
    "                return\n",
    "\n",
    "    else:\n",
    "#         print str(nit)  + ': yes'\n",
    "        mincost = ccost\n",
    "        presult[:] = xk\n",
    "        count = 0\n",
    "#     print ccost, mincost\n",
    "\n",
    "#     fpr, tpr, _ = roc_curve(getLabels(dvalid),getPredictions_score(dvalid, xk, k))\n",
    "#     cauc = auc(fpr,tpr)\n",
    "#     if cauc < maxauc and nit>=100:\n",
    "#         count +=1\n",
    "#         if count == 10:\n",
    "#             print 'here'\n",
    "#             result[:] = presult\n",
    "#             raise ConvergedException()\n",
    "#     else: \n",
    "#         maxauc = cauc\n",
    "#         count = 0\n",
    "#         presult[:] = xk\n",
    "#     print cauc, maxauc, presult[0]\n",
    "    "
   ]
  },
  {
   "cell_type": "code",
   "execution_count": 67,
   "metadata": {
    "collapsed": true
   },
   "outputs": [],
   "source": [
    "# class ConvergedException(Exception):\n",
    "#     pass\n",
    "# def check_updated(xk):\n",
    "#     global result\n",
    "#     global presult\n",
    "#     global maxauc\n",
    "#     global count\n",
    "#     global mincost\n",
    "#     global nit\n",
    "#     global counter\n",
    "#     global pcost\n",
    "    \n",
    "#     count+=1\n",
    "#     nit+=1\n",
    "#     if count==5:\n",
    "#         count = 0\n",
    "#         ccost = cost(xk, k, dvalid)\n",
    "#         print ccost\n",
    "#         if ccost> pcost:\n",
    "#             result[:] = presult\n",
    "#             raise ConvergedException()\n",
    "#             return\n",
    "#         else:\n",
    "#             pcost = ccost\n",
    "#             presult[:] = xk\n"
   ]
  },
  {
   "cell_type": "code",
   "execution_count": 68,
   "metadata": {
    "collapsed": true
   },
   "outputs": [],
   "source": [
    "# class ConvergedException(Exception):\n",
    "#     pass\n",
    "# def check2(xk):\n",
    "#     global result\n",
    "#     global presult\n",
    "#     global maxauc\n",
    "#     global count\n",
    "#     global mincost\n",
    "#     global nit\n",
    "    \n",
    "#     nit+=1\n",
    "\n",
    "#     ccost = cost(xk, k, dvalid)\n",
    "    \n",
    "#     if ccost <  mincost:\n",
    "#         mincost = ccost\n",
    "#         print str(nit) + ' yes'\n"
   ]
  },
  {
   "cell_type": "code",
   "execution_count": 69,
   "metadata": {
    "collapsed": true
   },
   "outputs": [],
   "source": [
    "class ConvergedException(Exception):\n",
    "    pass\n",
    "def check_updated(xk):\n",
    "    global result\n",
    "    global presult\n",
    "    global maxauc\n",
    "    global count\n",
    "    global mincost\n",
    "    global nit\n",
    "    \n",
    "    nit+=1\n",
    "\n",
    "#     ccost = cost(xk, k, dvalid)\n",
    "    \n",
    "#     if ccost> mincost:\n",
    "#         count +=1\n",
    "#         if count == 30:\n",
    "#             print 'here'\n",
    "#             result[:] = presult\n",
    "#             raise ConvergedException()\n",
    "#             return\n",
    "\n",
    "#     else:\n",
    "#         mincost = ccost\n",
    "#         presult[:] = xk\n",
    "#         count = 0\n",
    "#     fpr, tpr, _ = roc_curve(getLabels(dvalid),getPredictions_score(dvalid, xk, k))\n",
    "    cauc = AUC(dvalid, xk, k)\n",
    "    if cauc < maxauc:\n",
    "        count +=1\n",
    "        if count == 30:\n",
    "            print 'here'\n",
    "            result[:] = presult\n",
    "            raise ConvergedException()\n",
    "    else: \n",
    "        maxauc = cauc\n",
    "        count = 0\n",
    "        presult[:] = xk"
   ]
  },
  {
   "cell_type": "code",
   "execution_count": 70,
   "metadata": {
    "collapsed": true
   },
   "outputs": [],
   "source": [
    "k = 10\n",
    "betai = np.random.normal(0,0.1, len(products))\n",
    "gammai = np.random.normal(0, 0.1, (len(products), k))\n",
    "gammau = np.random.normal(0, 0.1, (len(users), k))\n",
    "for u in users:\n",
    "    if u not in uintrain:\n",
    "        gammau[users[u]] = 0\n",
    "for p in products:\n",
    "    if p not in pintrain:\n",
    "        gammai[products[p]]=0\n",
    "        betai[products[p]]=0\n",
    "initial = list(betai) + list(gammau.flatten()) + list(gammai.flatten())"
   ]
  },
  {
   "cell_type": "code",
   "execution_count": 71,
   "metadata": {
    "collapsed": false
   },
   "outputs": [
    {
     "name": "stdout",
     "output_type": "stream",
     "text": [
      "normal\n",
      "converged after :21\n",
      "0 : 5595.40401234 5508.93360091 0.429004854369 0.432989690722\n",
      "normal\n",
      "converged after :69\n",
      "1e-05 : 1076.10032642 1070.0161142 0.62682038835 0.616737416616\n",
      "normal\n",
      "converged after :96\n",
      "0.0001 : 969.034076799 951.351724125 0.64927184466 0.637962401455\n",
      "normal\n",
      "converged after :113\n",
      "0.001 : 950.448515044 937.821694377 0.648058252427 0.630685263796\n",
      "normal\n",
      "converged after :125\n",
      "0.01 : 934.740161747 926.915878584 0.646844660194 0.62947240752\n",
      "here\n",
      "converged after :94\n",
      "0.1 : 940.572937296 937.54995637 0.640776699029 0.624014554275\n",
      "here\n",
      "converged after :62\n",
      "1 : 986.389634101 986.131383916 0.62682038835 0.605821710127\n",
      "normal\n",
      "converged after :23\n",
      "10 : 1146.76797416 1144.45765989 0.45145631068 0.436628259551\n",
      "normal\n",
      "converged after :5\n",
      "100 : 1144.73452351 1142.58344622 0.457524271845 0.453001819284\n",
      "normal\n",
      "converged after :4\n",
      "1000 : 1144.53120496 1142.39588973 0.455703883495 0.453001819284\n",
      "normal\n",
      "converged after :4\n",
      "10000 : 1144.51088127 1142.37714008 0.455703883495 0.453001819284\n"
     ]
    }
   ],
   "source": [
    "lams = [0, 0.00001, 0.0001, 0.001, 0.01, 0.1, 1, 10, 100, 1000, 10000]\n",
    "for l in lams:\n",
    "    count = 0\n",
    "    presult = []\n",
    "    result = []\n",
    "    params = []\n",
    "    maxauc = 0\n",
    "    mincost = 100000000000000\n",
    "    nit = 0\n",
    "    try:\n",
    "        params, c,d = fmin_l_bfgs_b(compute_cost, x0=initial,args=(l,k, dtrain, ), disp = 0, callback=check_updated)\n",
    "        params = presult\n",
    "        print 'normal'\n",
    "    except ConvergedException:\n",
    "        params = result\n",
    "    print 'converged after :' + str(nit)\n",
    "    fpr, tpr, _ = roc_curve(getLabels(dvalid),getPredictions_score(dvalid, params, k))\n",
    "#     fprt, tprt, _ = roc_curve(getLabels(dtest),getPredictions_score(dtest, params, k))\n",
    "    print str(l)  + ' : ' + str(cost(params, k, dvalid)) + ' ' +  str(cost(params, k , dtest)) + ' ' + str(AUC(dvalid, params, k)) + ' ' + str(AUC(dtest, params, k))"
   ]
  },
  {
   "cell_type": "code",
   "execution_count": 429,
   "metadata": {
    "collapsed": false,
    "scrolled": false
   },
   "outputs": [
    {
     "name": "stdout",
     "output_type": "stream",
     "text": [
      "normal\n",
      "converged after :29\n",
      "0 : 10722.1570805 0.908940698818 0.909441614208\n",
      "here\n",
      "converged after :219\n",
      "1e-05 : 13.6294679753 0.999788428508 0.999759809201\n",
      "normal\n",
      "converged after :227\n",
      "0.0001 : 10.2761326616 0.999907260121 0.999883413142\n",
      "normal\n",
      "converged after :253\n",
      "0.001 : 12.7350051074 0.999921290096 0.99989877761\n",
      "normal\n",
      "converged after :257\n",
      "0.01 : 28.118073845 0.999929523306 0.999911967505\n",
      "here\n",
      "converged after :193\n",
      "0.1 : 110.634852952 0.999935607082 0.999921656715\n",
      "here\n",
      "converged after :151\n",
      "1 : 590.379695884 0.999933838933 0.999925932537\n",
      "here\n",
      "converged after :112\n",
      "10 : 3660.69079559 0.999796516118 0.999813592172\n",
      "normal\n",
      "converged after :12\n",
      "100 : 15181.7568694 0.501763007776 0.501902232818\n",
      "normal\n",
      "converged after :5\n",
      "1000 : 15183.9386049 0.501215771677 0.501096545164\n",
      "normal\n",
      "converged after :4\n",
      "10000 : 15184.1623682 0.501161244994 0.501017703278\n"
     ]
    }
   ],
   "source": [
    "lams = [0, 0.00001, 0.0001, 0.001, 0.01, 0.1, 1, 10, 100, 1000, 10000]\n",
    "for l in lams:\n",
    "    count = 0\n",
    "    presult = []\n",
    "    result = []\n",
    "    params = []\n",
    "    maxauc = 0\n",
    "    mincost = 100000000000000\n",
    "    nit = 0\n",
    "    try:\n",
    "        params, c,d = fmin_l_bfgs_b(compute_cost, x0=initial,args=(l,k, dtrain, ), disp = 0, callback=check_updated)\n",
    "        params = presult\n",
    "        print 'normal'\n",
    "    except ConvergedException:\n",
    "        params = result\n",
    "    print 'converged after :' + str(nit)\n",
    "    fpr, tpr, _ = roc_curve(getLabels(dvalid),getPredictions_score(dvalid, params, k))\n",
    "    fprt, tprt, _ = roc_curve(getLabels(dtest),getPredictions_score(dtest, params, k))\n",
    "    print str(l)  + ' : ' + str(cost(params, k, dvalid)) + ' ' +  str(auc(fpr,tpr))  + ' ' +  str(auc(fprt, tprt))"
   ]
  },
  {
   "cell_type": "code",
   "execution_count": 288,
   "metadata": {
    "collapsed": false
   },
   "outputs": [
    {
     "name": "stdout",
     "output_type": "stream",
     "text": [
      "converged after :26\n",
      "0 : 0.877802970049\n",
      "here\n",
      "converged after :162\n",
      "1e-05 : 0.999806885144\n",
      "here\n",
      "converged after :131\n",
      "0.0001 : 0.999820241589\n",
      "here\n",
      "converged after :171\n",
      "0.001 : 0.999875918407\n",
      "here\n",
      "converged after :153\n",
      "0.01 : 0.99989908138\n",
      "here\n",
      "converged after :247\n",
      "0.1 : 0.999899152609\n",
      "here\n",
      "converged after :119\n",
      "1 : 0.999231904386\n",
      "here\n",
      "converged after :119\n",
      "10 : 0.989200077772\n",
      "converged after :13\n",
      "100 : 0.496867983336\n",
      "converged after :5\n",
      "1000 : 0.475989757711\n",
      "converged after :4\n",
      "10000 : 0.476459606876\n"
     ]
    }
   ],
   "source": [
    "lams = [0, 0.00001, 0.0001, 0.001, 0.01, 0.1, 1, 10, 100, 1000, 10000]\n",
    "with open('Binary baseline - gamma and beta terms 400 core.csv', 'wb') as f:\n",
    "    writer = csv.DictWriter(f, fieldnames=['lambda','k','value'])\n",
    "    writer.writeheader()\n",
    "    for l in lams:\n",
    "        maxauc = 0\n",
    "        count = 0\n",
    "        presult = []\n",
    "        result = []\n",
    "        params = []\n",
    "        nit = 0\n",
    "        mincost = 100000000\n",
    "        try:\n",
    "            params, c,d = fmin_l_bfgs_b(compute_cost, x0=initial,args=(l,k, dtrain, ), disp = 0, callback=check)\n",
    "            params = presult\n",
    "        except ConvergedException:\n",
    "            params = presult\n",
    "        print 'converged after :' + str(nit)\n",
    "        fpr, tpr, _ = roc_curve(getLabels(dvalid),getPredictions_score(dvalid, params, k))\n",
    "        print str(l)  + ' : ' +  str(auc(fpr,tpr))\n",
    "#         print cost(params, k, dvalid)\n",
    "        for i, v in enumerate(params):\n",
    "            writer.writerow({'lambda': l, 'k': k, 'value': v}) "
   ]
  },
  {
   "cell_type": "code",
   "execution_count": 289,
   "metadata": {
    "collapsed": false
   },
   "outputs": [],
   "source": [
    "params = defaultdict(lambda:defaultdict(list))\n",
    "with open('Binary baseline - gamma and beta terms 400 core.csv', 'rb') as csvfile:\n",
    "    reader = csv.DictReader(csvfile)\n",
    "    for row in reader:\n",
    "        params[float(row['lambda'])][int(row['k'])].append(float(row['value']))"
   ]
  },
  {
   "cell_type": "code",
   "execution_count": 290,
   "metadata": {
    "collapsed": false
   },
   "outputs": [
    {
     "name": "stdout",
     "output_type": "stream",
     "text": [
      "11\n"
     ]
    }
   ],
   "source": [
    "print len(params)"
   ]
  },
  {
   "cell_type": "code",
   "execution_count": 291,
   "metadata": {
    "collapsed": false
   },
   "outputs": [],
   "source": [
    "#takes dictionary of parameters in the form of  {lambda value: k value: [parameters]} and choose the lambda value and k value that\n",
    "#minimize the balanced error rate\n",
    "def chooseBestParams(data, params):\n",
    "    minError = 1000000000\n",
    "    maxauc = 0\n",
    "    labs = getLabels(data)\n",
    "    for l in params:\n",
    "        for k in params[l]:\n",
    "#             fpr, tpr, _ = roc_curve(getLabels(dvalid),getPredictions_score(dvalid, params[l][k], k))\n",
    "#             cauc = auc(fpr,tpr)\n",
    "#             if cauc > maxauc:\n",
    "#                 maxauc = cauc\n",
    "#                 minlam = l\n",
    "#                 op = params[l][k]\n",
    "\n",
    "\n",
    "            e = cost(params[l][k], k, data)\n",
    "#             print l, e\n",
    "#             print l, k , e\n",
    "            if e < minError:\n",
    "                minError = e\n",
    "                minlam = l\n",
    "                op = params[l][k]\n",
    "    return minlam, op\n",
    "# , minError"
   ]
  },
  {
   "cell_type": "code",
   "execution_count": 292,
   "metadata": {
    "collapsed": false,
    "scrolled": true
   },
   "outputs": [
    {
     "name": "stdout",
     "output_type": "stream",
     "text": [
      "0.001\n"
     ]
    }
   ],
   "source": [
    "minlam, op = chooseBestParams(dvalid, params)\n",
    "print minlam"
   ]
  },
  {
   "cell_type": "code",
   "execution_count": 293,
   "metadata": {
    "collapsed": false
   },
   "outputs": [
    {
     "name": "stdout",
     "output_type": "stream",
     "text": [
      "11.4094030928\n"
     ]
    }
   ],
   "source": [
    "print cost(op,k, dtest)"
   ]
  },
  {
   "cell_type": "code",
   "execution_count": 294,
   "metadata": {
    "collapsed": false
   },
   "outputs": [
    {
     "name": "stdout",
     "output_type": "stream",
     "text": [
      "0.999895980833\n"
     ]
    }
   ],
   "source": [
    "fpr, tpr, _ = roc_curve(getLabels(dtest),getPredictions_score(dtest, op, k))\n",
    "roc_auc = auc(fpr,tpr)\n",
    "print roc_auc"
   ]
  },
  {
   "cell_type": "code",
   "execution_count": 295,
   "metadata": {
    "collapsed": false
   },
   "outputs": [
    {
     "name": "stdout",
     "output_type": "stream",
     "text": [
      "0.740742461372\n"
     ]
    }
   ],
   "source": [
    "print cost(op,k, dtrain)"
   ]
  },
  {
   "cell_type": "code",
   "execution_count": 296,
   "metadata": {
    "collapsed": false
   },
   "outputs": [
    {
     "name": "stdout",
     "output_type": "stream",
     "text": [
      "1.0\n"
     ]
    }
   ],
   "source": [
    "fpr, tpr, _ = roc_curve(getLabels(dtrain),getPredictions_score(dtrain, op, k))\n",
    "roc_auc = auc(fpr,tpr)\n",
    "print roc_auc"
   ]
  },
  {
   "cell_type": "code",
   "execution_count": 297,
   "metadata": {
    "collapsed": false
   },
   "outputs": [
    {
     "name": "stdout",
     "output_type": "stream",
     "text": [
      "0.154293299158\n"
     ]
    }
   ],
   "source": [
    "preds = getPredictions(dtest, op, k)\n",
    "labels = getLabels(dtest)\n",
    "print BER(preds, labels)"
   ]
  },
  {
   "cell_type": "code",
   "execution_count": 209,
   "metadata": {
    "collapsed": false
   },
   "outputs": [],
   "source": [
    "# fpr, tpr, _ = roc_curve(getLabels(dtest),getPredictions_score(dtest, op, mink))\n",
    "# roc_auc = auc(fpr,tpr)\n",
    "# print roc_auc\n",
    "# fpr, tpr, _ = roc_curve(getLabels(dtrain),getPredictions_score(dtrain, op, mink))\n",
    "# roc_auc = auc(fpr,tpr)\n",
    "# print roc_auc\n",
    "# plt.figure()\n",
    "# plt.plot(fpr, tpr, label='ROC curve (area = %0.5f)' % roc_auc)\n",
    "# plt.plot([0, 1], [0, 1], 'k--')\n",
    "# plt.xlim([0.0, 1.0])\n",
    "# plt.ylim([0.0, 1.05])\n",
    "# plt.xlabel('False Positive Rate')\n",
    "# plt.ylabel('True Positive Rate')\n",
    "# plt.title('ROC Curve gamma terms and beta terms')\n",
    "# plt.legend(loc=\"lower right\")\n",
    "# plt.show()"
   ]
  },
  {
   "cell_type": "code",
   "execution_count": 29,
   "metadata": {
    "collapsed": false
   },
   "outputs": [],
   "source": [
    "params, c,d = fmin_l_bfgs_b(compute_cost, x0=initial,args=(0,10, dtrain, ))"
   ]
  },
  {
   "cell_type": "code",
   "execution_count": 30,
   "metadata": {
    "collapsed": false
   },
   "outputs": [
    {
     "name": "stdout",
     "output_type": "stream",
     "text": [
      "(1.6063525076659194e-05, array([ -9.60714517e-09,  -3.18075805e-09,  -5.48235994e-10, ...,\n",
      "        -3.74857351e-09,  -3.69609469e-09,   5.90983072e-09]))\n"
     ]
    }
   ],
   "source": [
    "print compute_cost(params, 0, 10, dtrain)"
   ]
  },
  {
   "cell_type": "code",
   "execution_count": null,
   "metadata": {
    "collapsed": true
   },
   "outputs": [],
   "source": []
  },
  {
   "cell_type": "code",
   "execution_count": null,
   "metadata": {
    "collapsed": true
   },
   "outputs": [],
   "source": []
  }
 ],
 "metadata": {
  "kernelspec": {
   "display_name": "Python 2",
   "language": "python",
   "name": "python2"
  },
  "language_info": {
   "codemirror_mode": {
    "name": "ipython",
    "version": 2
   },
   "file_extension": ".py",
   "mimetype": "text/x-python",
   "name": "python",
   "nbconvert_exporter": "python",
   "pygments_lexer": "ipython2",
   "version": "2.7.11"
  }
 },
 "nbformat": 4,
 "nbformat_minor": 0
}
